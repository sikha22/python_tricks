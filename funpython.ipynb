{
  "nbformat": 4,
  "nbformat_minor": 0,
  "metadata": {
    "colab": {
      "name": "funpython.ipynb",
      "provenance": [],
      "authorship_tag": "ABX9TyM5ZxZDV9bPLSN2uq85DOvC",
      "include_colab_link": true
    },
    "kernelspec": {
      "name": "python3",
      "display_name": "Python 3"
    },
    "language_info": {
      "name": "python"
    }
  },
  "cells": [
    {
      "cell_type": "markdown",
      "metadata": {
        "id": "view-in-github",
        "colab_type": "text"
      },
      "source": [
        "<a href=\"https://colab.research.google.com/github/sikha22/python_tricks/blob/main/funpython.ipynb\" target=\"_parent\"><img src=\"https://colab.research.google.com/assets/colab-badge.svg\" alt=\"Open In Colab\"/></a>"
      ]
    },
    {
      "cell_type": "code",
      "metadata": {
        "colab": {
          "base_uri": "https://localhost:8080/"
        },
        "id": "lzHKCIZB7qkH",
        "outputId": "cf49a2e8-f450-4635-b7c4-74c190e6ce16"
      },
      "source": [
        "def is_anagram(s,s1):\n",
        "  if len(s)!=len(s1):\n",
        "    return False\n",
        "  else:\n",
        "    for i,j in zip(s,s1):\n",
        "      if i!=j:\n",
        "        return False\n",
        "      return True\n",
        "\n",
        "s=input(\"Enter word:\")\n",
        "s1=input(\"Enter words:\")\n",
        "s=sorted(s.lower())\n",
        "s1=sorted(s1.lower())\n",
        "res=is_anagram(s,s1)\n",
        "if res==True:\n",
        "  print(\"It's an Anagram\")\n",
        "else:\n",
        "  print(\"It's not an Anagram\")"
      ],
      "execution_count": 21,
      "outputs": [
        {
          "output_type": "stream",
          "name": "stdout",
          "text": [
            "Enter word:fried\n",
            "Enter words:fired\n",
            "It's an Anagram\n"
          ]
        }
      ]
    }
  ]
}