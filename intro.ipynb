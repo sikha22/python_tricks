{
  "nbformat": 4,
  "nbformat_minor": 0,
  "metadata": {
    "colab": {
      "name": "intro.ipynb",
      "provenance": [],
      "collapsed_sections": [],
      "authorship_tag": "ABX9TyOj8ELgG3HIM+XGNmKLc7Iv",
      "include_colab_link": true
    },
    "kernelspec": {
      "name": "python3",
      "display_name": "Python 3"
    },
    "language_info": {
      "name": "python"
    }
  },
  "cells": [
    {
      "cell_type": "markdown",
      "metadata": {
        "id": "view-in-github",
        "colab_type": "text"
      },
      "source": [
        "<a href=\"https://colab.research.google.com/github/sikha22/python_tricks/blob/main/intro.ipynb\" target=\"_parent\"><img src=\"https://colab.research.google.com/assets/colab-badge.svg\" alt=\"Open In Colab\"/></a>"
      ]
    },
    {
      "cell_type": "code",
      "metadata": {
        "colab": {
          "base_uri": "https://localhost:8080/"
        },
        "id": "ZQgdhwZLOlpn",
        "outputId": "c07b8a0b-30ba-410e-c4cd-a0f52693aaf2"
      },
      "source": [
        "print(\"Hey new way\")"
      ],
      "execution_count": null,
      "outputs": [
        {
          "output_type": "stream",
          "name": "stdout",
          "text": [
            "Hey new way\n"
          ]
        }
      ]
    },
    {
      "cell_type": "code",
      "metadata": {
        "id": "ECN8o70wPm17",
        "colab": {
          "base_uri": "https://localhost:8080/"
        },
        "outputId": "d0a7e806-7c3f-4932-dfbb-0319c5144a58"
      },
      "source": [
        "#casting\n",
        "x=str(3)\n",
        "y=int(3)\n",
        "z=float(3)\n",
        "print(x)\n",
        "print(y)\n",
        "print(z)"
      ],
      "execution_count": null,
      "outputs": [
        {
          "output_type": "stream",
          "name": "stdout",
          "text": [
            "3\n",
            "3\n",
            "3.0\n"
          ]
        }
      ]
    },
    {
      "cell_type": "code",
      "metadata": {
        "colab": {
          "base_uri": "https://localhost:8080/"
        },
        "id": "99E0J63fckTq",
        "outputId": "65322b78-95b5-4766-f5cc-5108cc95d52f"
      },
      "source": [
        "x=9\n",
        "y=\"july\"\n",
        "print(type(x))\n",
        "print(type(y))"
      ],
      "execution_count": null,
      "outputs": [
        {
          "output_type": "stream",
          "name": "stdout",
          "text": [
            "<class 'int'>\n",
            "<class 'str'>\n"
          ]
        }
      ]
    },
    {
      "cell_type": "code",
      "metadata": {
        "colab": {
          "base_uri": "https://localhost:8080/"
        },
        "id": "wXfqSFgWct2V",
        "outputId": "7f92951e-a02d-4f0c-80f9-8aa38cbb5a86"
      },
      "source": [
        "x=\"kind\"\n",
        "y=\"you are very \"\n",
        "print(y+x)"
      ],
      "execution_count": null,
      "outputs": [
        {
          "output_type": "stream",
          "name": "stdout",
          "text": [
            "you are very kind\n"
          ]
        }
      ]
    },
    {
      "cell_type": "code",
      "metadata": {
        "colab": {
          "base_uri": "https://localhost:8080/"
        },
        "id": "AgEO3X0qdEDy",
        "outputId": "8ed28b84-682e-482a-d81e-177af33aacf5"
      },
      "source": [
        "x=\"Country\"\n",
        "print(\"I love my \" + x)"
      ],
      "execution_count": null,
      "outputs": [
        {
          "output_type": "stream",
          "name": "stdout",
          "text": [
            "I love my Country\n"
          ]
        }
      ]
    },
    {
      "cell_type": "code",
      "metadata": {
        "colab": {
          "base_uri": "https://localhost:8080/"
        },
        "id": "td6D_aRgdLvJ",
        "outputId": "923d0d57-a1b4-437a-dc94-51f313f85cb9"
      },
      "source": [
        "x=5\n",
        "y=10\n",
        "print(x+y)"
      ],
      "execution_count": null,
      "outputs": [
        {
          "output_type": "stream",
          "name": "stdout",
          "text": [
            "15\n"
          ]
        }
      ]
    },
    {
      "cell_type": "code",
      "metadata": {
        "colab": {
          "base_uri": "https://localhost:8080/"
        },
        "id": "bj8sOZJDdRxH",
        "outputId": "8d74507e-e1ae-49d0-f34a-db4413c3dea7"
      },
      "source": [
        "x=\"Leaving dreams\"\n",
        "def myfunc():\n",
        "  print(\"Living with dream is much better than \" +x)\n",
        "myfunc()"
      ],
      "execution_count": null,
      "outputs": [
        {
          "output_type": "stream",
          "name": "stdout",
          "text": [
            "Living with dream is much better than Leaving dreams\n"
          ]
        }
      ]
    },
    {
      "cell_type": "code",
      "metadata": {
        "colab": {
          "base_uri": "https://localhost:8080/"
        },
        "id": "5DrrKaSid7sF",
        "outputId": "e5aa3b88-6cfa-42e7-e917-324aa6e66ab0"
      },
      "source": [
        "x=\"low\"\n",
        "def myfunc():\n",
        "  x=\"radio\"\n",
        "  print(\"Make me your \" + x)\n",
        "myfunc()\n",
        "print(\"Turn me up when you feel \" + x)"
      ],
      "execution_count": null,
      "outputs": [
        {
          "output_type": "stream",
          "name": "stdout",
          "text": [
            "Make me yourradio\n",
            "Turn me up when you feel low\n"
          ]
        }
      ]
    },
    {
      "cell_type": "code",
      "metadata": {
        "colab": {
          "base_uri": "https://localhost:8080/"
        },
        "id": "4vJogstwedw6",
        "outputId": "53230f0b-bba2-44e5-cc9f-1e62cb049f5e"
      },
      "source": [
        "def myfunc():\n",
        "  global x\n",
        "  x=\"Indian\"\n",
        "myfunc()\n",
        "print(\"Proud to be an \"+x)"
      ],
      "execution_count": null,
      "outputs": [
        {
          "output_type": "stream",
          "name": "stdout",
          "text": [
            "Proud to be an Indian\n"
          ]
        }
      ]
    },
    {
      "cell_type": "code",
      "metadata": {
        "colab": {
          "base_uri": "https://localhost:8080/"
        },
        "id": "Y4hwR0ufex5_",
        "outputId": "11b01fc1-de51-4542-e03a-784cbb306f14"
      },
      "source": [
        "#we can use global keyword to change the value of global variable inside a function\n",
        "x=\"boy\"\n",
        "def myfunc():\n",
        "  global x\n",
        "  x=\"girl\"\n",
        "myfunc()\n",
        "print(\"I am a super \"+x)"
      ],
      "execution_count": null,
      "outputs": [
        {
          "output_type": "stream",
          "name": "stdout",
          "text": [
            "I am a super girl\n"
          ]
        }
      ]
    },
    {
      "cell_type": "code",
      "metadata": {
        "colab": {
          "base_uri": "https://localhost:8080/"
        },
        "id": "Z-r3yNn5fRol",
        "outputId": "705080e4-8496-416f-cc06-c2afe08d8a9d"
      },
      "source": [
        "x=5\n",
        "y=1j\n",
        "z=22.0\n",
        "a=\"shikha\"\n",
        "b=(4,3,2)\n",
        "c=[1,2,3]\n",
        "d={\"black\":\"white\",\"east\":\"west\",\"up\":\"down\"}\n",
        "print(type(x))\n",
        "print(type(y))\n",
        "print(type(z))\n",
        "print(type(a))\n",
        "print(type(b))\n",
        "print(type(c))\n",
        "print(type(d))"
      ],
      "execution_count": null,
      "outputs": [
        {
          "output_type": "stream",
          "name": "stdout",
          "text": [
            "<class 'int'>\n",
            "<class 'complex'>\n",
            "<class 'float'>\n",
            "<class 'str'>\n",
            "<class 'tuple'>\n",
            "<class 'list'>\n",
            "<class 'dict'>\n"
          ]
        }
      ]
    },
    {
      "cell_type": "code",
      "metadata": {
        "colab": {
          "base_uri": "https://localhost:8080/"
        },
        "id": "oJO_z5KDghXw",
        "outputId": "db1b1ca8-8a70-4ff5-ed17-3786ca6e061b"
      },
      "source": [
        "a=\"\"\"My name is Sikha Kumari,\n",
        "I am from Bihar,\n",
        "and currently pursuing b.tech(cse)\"\"\"\n",
        "print(a)"
      ],
      "execution_count": null,
      "outputs": [
        {
          "output_type": "stream",
          "name": "stdout",
          "text": [
            "My name is Sikha Kumari,\n",
            "I am from Bihar,\n",
            "and currently pursuing b.tech(cse)\n"
          ]
        }
      ]
    },
    {
      "cell_type": "code",
      "metadata": {
        "colab": {
          "base_uri": "https://localhost:8080/"
        },
        "id": "df3G1-l4hANB",
        "outputId": "b5667354-a3e3-4b25-efdf-5f4f913b86d3"
      },
      "source": [
        "a='''My name is Sikha Kumari,\n",
        "I am from Bihar,\n",
        "and currently pursuing b.tech(cse)'''\n",
        "print(a)"
      ],
      "execution_count": null,
      "outputs": [
        {
          "output_type": "stream",
          "name": "stdout",
          "text": [
            "My name is Sikha Kumari,\n",
            "I am from Bihar,\n",
            "and currently pursuing b.tech(cse)\n"
          ]
        }
      ]
    },
    {
      "cell_type": "code",
      "metadata": {
        "colab": {
          "base_uri": "https://localhost:8080/"
        },
        "id": "po1atpK1hFDv",
        "outputId": "fd8c857d-fbd0-459e-fa23-0379079eaab5"
      },
      "source": [
        "a=\"Vampire Diaries\"\n",
        "print(a[1])"
      ],
      "execution_count": null,
      "outputs": [
        {
          "output_type": "stream",
          "name": "stdout",
          "text": [
            "a\n"
          ]
        }
      ]
    },
    {
      "cell_type": "code",
      "metadata": {
        "colab": {
          "base_uri": "https://localhost:8080/"
        },
        "id": "EKKPD-MHhTO_",
        "outputId": "fb3bbd02-2f93-46ac-ba31-bcd939d64f60"
      },
      "source": [
        "#looping through a string\n",
        "for x in \"shikha\":\n",
        "  print(x)"
      ],
      "execution_count": null,
      "outputs": [
        {
          "output_type": "stream",
          "name": "stdout",
          "text": [
            "s\n",
            "h\n",
            "i\n",
            "k\n",
            "h\n",
            "a\n"
          ]
        }
      ]
    },
    {
      "cell_type": "code",
      "metadata": {
        "colab": {
          "base_uri": "https://localhost:8080/"
        },
        "id": "Tu6qcVRXhfVZ",
        "outputId": "90e48716-f541-4c4b-bf5d-ecfc6283fbf6"
      },
      "source": [
        "x=\"Welcome Home\"\n",
        "print(len(x))"
      ],
      "execution_count": null,
      "outputs": [
        {
          "output_type": "stream",
          "name": "stdout",
          "text": [
            "12\n"
          ]
        }
      ]
    },
    {
      "cell_type": "code",
      "metadata": {
        "colab": {
          "base_uri": "https://localhost:8080/"
        },
        "id": "LuI8EJ55hpoe",
        "outputId": "f34b9151-bc76-4067-e188-ce9e783d6e44"
      },
      "source": [
        "z=\"Shikha and Rimjhim are best friends!\"\n",
        "print(\"best\" in z)\n",
        "print(\"good\" in z)\n",
        "print(\"are\" not in z)\n",
        "print(\"good\" not in z)"
      ],
      "execution_count": null,
      "outputs": [
        {
          "output_type": "stream",
          "name": "stdout",
          "text": [
            "True\n",
            "False\n",
            "False\n",
            "True\n"
          ]
        }
      ]
    },
    {
      "cell_type": "code",
      "metadata": {
        "colab": {
          "base_uri": "https://localhost:8080/"
        },
        "id": "JtDDkPvoiD8H",
        "outputId": "9a209f45-7ef3-4df2-ff50-a6fbfabdd290"
      },
      "source": [
        "a=\"Life is incomplete without friends!\"\n",
        "if \" incomplete\" in a:\n",
        "  print(\"Yes, incomplete is present in a\")\n"
      ],
      "execution_count": null,
      "outputs": [
        {
          "output_type": "stream",
          "name": "stdout",
          "text": [
            "Yes, incomplete is present in a\n"
          ]
        }
      ]
    },
    {
      "cell_type": "markdown",
      "metadata": {
        "id": "-DPZyZcLvICY"
      },
      "source": [
        "Slicing Strings\n"
      ]
    },
    {
      "cell_type": "code",
      "metadata": {
        "colab": {
          "base_uri": "https://localhost:8080/"
        },
        "id": "Mc2UvL5Iis58",
        "outputId": "cbe090ac-6c9d-4b4c-a9c6-f38ac0f0ca8f"
      },
      "source": [
        "z=\"Shikha,Rimjhim,Neha\"\n",
        "print(z[2:8])\n",
        "print(z[:9])\n",
        "print(z[6:])\n",
        "print(z[-5:-2])"
      ],
      "execution_count": null,
      "outputs": [
        {
          "output_type": "stream",
          "name": "stdout",
          "text": [
            "ikha,R\n",
            "Shikha,Ri\n",
            ",Rimjhim,Neha\n",
            ",Ne\n"
          ]
        }
      ]
    },
    {
      "cell_type": "code",
      "metadata": {
        "colab": {
          "base_uri": "https://localhost:8080/"
        },
        "id": "i233NHuwvqHh",
        "outputId": "e7b1dc00-8b3c-4554-b2f2-13125e327518"
      },
      "source": [
        "z=\"bihar\"\n",
        "print(z.upper())"
      ],
      "execution_count": null,
      "outputs": [
        {
          "output_type": "stream",
          "name": "stdout",
          "text": [
            "BIHAR\n"
          ]
        }
      ]
    },
    {
      "cell_type": "code",
      "metadata": {
        "colab": {
          "base_uri": "https://localhost:8080/"
        },
        "id": "OO3MsbVIvyzd",
        "outputId": "2c8d67c3-cf05-4aca-cf1e-a3055cd94a90"
      },
      "source": [
        "z=\"PATNA\"\n",
        "print(z.lower())"
      ],
      "execution_count": null,
      "outputs": [
        {
          "output_type": "stream",
          "name": "stdout",
          "text": [
            "patna\n"
          ]
        }
      ]
    },
    {
      "cell_type": "code",
      "metadata": {
        "colab": {
          "base_uri": "https://localhost:8080/"
        },
        "id": "-1jMCrS7v6i2",
        "outputId": "a2076568-f10e-419e-eeb2-703877043048"
      },
      "source": [
        "z=\"hello\"\n",
        "print(z.capitalize())"
      ],
      "execution_count": null,
      "outputs": [
        {
          "output_type": "stream",
          "name": "stdout",
          "text": [
            "Hello\n"
          ]
        }
      ]
    },
    {
      "cell_type": "code",
      "metadata": {
        "colab": {
          "base_uri": "https://localhost:8080/"
        },
        "id": "XJIKLKiDwBeO",
        "outputId": "259b98e3-0b56-42a0-fcd5-768cd0986ecf"
      },
      "source": [
        "#remove whitespace\n",
        "z=\"      I am best\"\n",
        "print(z.strip())"
      ],
      "execution_count": null,
      "outputs": [
        {
          "output_type": "stream",
          "name": "stdout",
          "text": [
            "I am best\n"
          ]
        }
      ]
    },
    {
      "cell_type": "code",
      "metadata": {
        "id": "lMBewHNTwRkf"
      },
      "source": [
        "f=open(\"Desktop\\welcome.txt\")"
      ],
      "execution_count": null,
      "outputs": []
    },
    {
      "cell_type": "code",
      "metadata": {
        "id": "o9oSnvW80Q5y"
      },
      "source": [
        "f.close()"
      ],
      "execution_count": null,
      "outputs": []
    },
    {
      "cell_type": "code",
      "metadata": {
        "colab": {
          "base_uri": "https://localhost:8080/"
        },
        "id": "36S9CRE94hL8",
        "outputId": "6aeaec6a-bce1-4e7d-bfb5-fd321e4d836f"
      },
      "source": [
        "f=open(\"Desktop\\welcome.txt\",\"r\")\n",
        "print(f.read())\n",
        "f.close()"
      ],
      "execution_count": null,
      "outputs": [
        {
          "output_type": "stream",
          "name": "stdout",
          "text": [
            "\n"
          ]
        }
      ]
    },
    {
      "cell_type": "code",
      "metadata": {
        "id": "ptxdvviQhYjA",
        "colab": {
          "base_uri": "https://localhost:8080/"
        },
        "outputId": "b299db2d-bc07-4075-d5b5-a755c077cf21"
      },
      "source": [
        "f=open(\"welcome.txt\",\"r\")\n",
        "print(f.readline())\n",
        "f.close()"
      ],
      "execution_count": null,
      "outputs": [
        {
          "output_type": "stream",
          "name": "stdout",
          "text": [
            "\n"
          ]
        }
      ]
    },
    {
      "cell_type": "code",
      "metadata": {
        "colab": {
          "base_uri": "https://localhost:8080/",
          "height": 356
        },
        "id": "Ho4ZZnM518Rm",
        "outputId": "167b45c6-d1dd-41e9-a5e7-6da3b55f1cee"
      },
      "source": [
        "#Write a program to design a login page\n",
        "from tkinter import *\n",
        "\n",
        "\n",
        "f = ('Times', 14)\n",
        "ws = Tk()\n",
        "ws.title('LOGIN FORM')\n",
        "ws.geometry('600x400')\n",
        "ws.config(bg='black')\n",
        "\n",
        "\n",
        "# widgets\n",
        "left_frame = Frame(\n",
        "    ws,\n",
        "    bd=2,\n",
        "    bg='#CCCCCC',\n",
        "    relief=SOLID,\n",
        "    padx=10,\n",
        "    pady=10\n",
        ")\n",
        "\n",
        "Label(\n",
        "    left_frame,\n",
        "    text=\"LOGIN FORM\",\n",
        "    bg='yellow',\n",
        "    font=f).grid(row=0, column=0, sticky=W, pady=10)\n",
        "\n",
        "Label(\n",
        "    left_frame,\n",
        "    text=\"Enter Email\",\n",
        "    bg='WHITE',\n",
        "    font=f).grid(row=1, column=0, sticky=W, pady=10)\n",
        "\n",
        "Label(\n",
        "    left_frame,\n",
        "    text=\"Enter Password\",\n",
        "    bg='WHITE',\n",
        "    font=f\n",
        ").grid(row=2, column=0, pady=10)\n",
        "\n",
        "email_tf = Entry(\n",
        "    left_frame,\n",
        "    font=f\n",
        ")\n",
        "pwd_tf = Entry(\n",
        "    left_frame,\n",
        "    font=f,\n",
        "    show='*'\n",
        ")\n",
        "login_btn = Button(\n",
        "    left_frame,\n",
        "    width=15,\n",
        "    text='Login',\n",
        "    font=f,\n",
        "    relief=SOLID,\n",
        "    cursor='hand2',\n",
        "\n",
        ")\n",
        "\n",
        "# widgets placement\n",
        "email_tf.grid(row=1, column=1, pady=10, padx=20)\n",
        "pwd_tf.grid(row=2, column=1, pady=10, padx=20)\n",
        "login_btn.grid(row=3, column=1, pady=10, padx=20)\n",
        "left_frame.place(x=100, y=60)\n",
        "ws.mainloop()"
      ],
      "execution_count": null,
      "outputs": [
        {
          "output_type": "error",
          "ename": "TclError",
          "evalue": "ignored",
          "traceback": [
            "\u001b[0;31m---------------------------------------------------------------------------\u001b[0m",
            "\u001b[0;31mTclError\u001b[0m                                  Traceback (most recent call last)",
            "\u001b[0;32m<ipython-input-6-71cdc4ef544e>\u001b[0m in \u001b[0;36m<module>\u001b[0;34m()\u001b[0m\n\u001b[1;32m      4\u001b[0m \u001b[0;34m\u001b[0m\u001b[0m\n\u001b[1;32m      5\u001b[0m \u001b[0mf\u001b[0m \u001b[0;34m=\u001b[0m \u001b[0;34m(\u001b[0m\u001b[0;34m'Times'\u001b[0m\u001b[0;34m,\u001b[0m \u001b[0;36m14\u001b[0m\u001b[0;34m)\u001b[0m\u001b[0;34m\u001b[0m\u001b[0;34m\u001b[0m\u001b[0m\n\u001b[0;32m----> 6\u001b[0;31m \u001b[0mws\u001b[0m \u001b[0;34m=\u001b[0m \u001b[0mTk\u001b[0m\u001b[0;34m(\u001b[0m\u001b[0;34m)\u001b[0m\u001b[0;34m\u001b[0m\u001b[0;34m\u001b[0m\u001b[0m\n\u001b[0m\u001b[1;32m      7\u001b[0m \u001b[0mws\u001b[0m\u001b[0;34m.\u001b[0m\u001b[0mtitle\u001b[0m\u001b[0;34m(\u001b[0m\u001b[0;34m'LOGIN FORM'\u001b[0m\u001b[0;34m)\u001b[0m\u001b[0;34m\u001b[0m\u001b[0;34m\u001b[0m\u001b[0m\n\u001b[1;32m      8\u001b[0m \u001b[0mws\u001b[0m\u001b[0;34m.\u001b[0m\u001b[0mgeometry\u001b[0m\u001b[0;34m(\u001b[0m\u001b[0;34m'600x400'\u001b[0m\u001b[0;34m)\u001b[0m\u001b[0;34m\u001b[0m\u001b[0;34m\u001b[0m\u001b[0m\n",
            "\u001b[0;32m/usr/lib/python3.7/tkinter/__init__.py\u001b[0m in \u001b[0;36m__init__\u001b[0;34m(self, screenName, baseName, className, useTk, sync, use)\u001b[0m\n\u001b[1;32m   2021\u001b[0m                 \u001b[0mbaseName\u001b[0m \u001b[0;34m=\u001b[0m \u001b[0mbaseName\u001b[0m \u001b[0;34m+\u001b[0m \u001b[0mext\u001b[0m\u001b[0;34m\u001b[0m\u001b[0;34m\u001b[0m\u001b[0m\n\u001b[1;32m   2022\u001b[0m         \u001b[0minteractive\u001b[0m \u001b[0;34m=\u001b[0m \u001b[0;36m0\u001b[0m\u001b[0;34m\u001b[0m\u001b[0;34m\u001b[0m\u001b[0m\n\u001b[0;32m-> 2023\u001b[0;31m         \u001b[0mself\u001b[0m\u001b[0;34m.\u001b[0m\u001b[0mtk\u001b[0m \u001b[0;34m=\u001b[0m \u001b[0m_tkinter\u001b[0m\u001b[0;34m.\u001b[0m\u001b[0mcreate\u001b[0m\u001b[0;34m(\u001b[0m\u001b[0mscreenName\u001b[0m\u001b[0;34m,\u001b[0m \u001b[0mbaseName\u001b[0m\u001b[0;34m,\u001b[0m \u001b[0mclassName\u001b[0m\u001b[0;34m,\u001b[0m \u001b[0minteractive\u001b[0m\u001b[0;34m,\u001b[0m \u001b[0mwantobjects\u001b[0m\u001b[0;34m,\u001b[0m \u001b[0museTk\u001b[0m\u001b[0;34m,\u001b[0m \u001b[0msync\u001b[0m\u001b[0;34m,\u001b[0m \u001b[0muse\u001b[0m\u001b[0;34m)\u001b[0m\u001b[0;34m\u001b[0m\u001b[0;34m\u001b[0m\u001b[0m\n\u001b[0m\u001b[1;32m   2024\u001b[0m         \u001b[0;32mif\u001b[0m \u001b[0museTk\u001b[0m\u001b[0;34m:\u001b[0m\u001b[0;34m\u001b[0m\u001b[0;34m\u001b[0m\u001b[0m\n\u001b[1;32m   2025\u001b[0m             \u001b[0mself\u001b[0m\u001b[0;34m.\u001b[0m\u001b[0m_loadtk\u001b[0m\u001b[0;34m(\u001b[0m\u001b[0;34m)\u001b[0m\u001b[0;34m\u001b[0m\u001b[0;34m\u001b[0m\u001b[0m\n",
            "\u001b[0;31mTclError\u001b[0m: no display name and no $DISPLAY environment variable"
          ]
        }
      ]
    },
    {
      "cell_type": "code",
      "metadata": {
        "id": "9P9IAtmI7hD1",
        "colab": {
          "base_uri": "https://localhost:8080/",
          "height": 391
        },
        "outputId": "daf51047-70be-48ab-dae0-f9dd7abbd9cd"
      },
      "source": [
        "from tkinter import*\n",
        "myw=Tk()\n",
        "nyw.geeometry('300x200')\n",
        "Label (myw,text=\"User Id\").grid(row=0)\n",
        "Label (myw,text=\"password\").grid(row=1)\n"
      ],
      "execution_count": null,
      "outputs": [
        {
          "output_type": "error",
          "ename": "TclError",
          "evalue": "ignored",
          "traceback": [
            "\u001b[0;31m---------------------------------------------------------------------------\u001b[0m",
            "\u001b[0;31mTclError\u001b[0m                                  Traceback (most recent call last)",
            "\u001b[0;32m<ipython-input-1-006ff55f5ce9>\u001b[0m in \u001b[0;36m<module>\u001b[0;34m()\u001b[0m\n\u001b[1;32m      1\u001b[0m \u001b[0;32mfrom\u001b[0m \u001b[0mtkinter\u001b[0m \u001b[0;32mimport\u001b[0m\u001b[0;34m*\u001b[0m\u001b[0;34m\u001b[0m\u001b[0;34m\u001b[0m\u001b[0m\n\u001b[0;32m----> 2\u001b[0;31m \u001b[0mmyw\u001b[0m\u001b[0;34m=\u001b[0m\u001b[0mTk\u001b[0m\u001b[0;34m(\u001b[0m\u001b[0;34m)\u001b[0m\u001b[0;34m\u001b[0m\u001b[0;34m\u001b[0m\u001b[0m\n\u001b[0m\u001b[1;32m      3\u001b[0m \u001b[0mnyw\u001b[0m\u001b[0;34m.\u001b[0m\u001b[0mgeeometry\u001b[0m\u001b[0;34m(\u001b[0m\u001b[0;34m'300x200'\u001b[0m\u001b[0;34m)\u001b[0m\u001b[0;34m\u001b[0m\u001b[0;34m\u001b[0m\u001b[0m\n\u001b[1;32m      4\u001b[0m \u001b[0mLabel\u001b[0m \u001b[0;34m(\u001b[0m\u001b[0mmyw\u001b[0m\u001b[0;34m,\u001b[0m\u001b[0mtext\u001b[0m\u001b[0;34m=\u001b[0m\u001b[0;34m\"User Id\"\u001b[0m\u001b[0;34m)\u001b[0m\u001b[0;34m.\u001b[0m\u001b[0mgrid\u001b[0m\u001b[0;34m(\u001b[0m\u001b[0mrow\u001b[0m\u001b[0;34m=\u001b[0m\u001b[0;36m0\u001b[0m\u001b[0;34m)\u001b[0m\u001b[0;34m\u001b[0m\u001b[0;34m\u001b[0m\u001b[0m\n\u001b[1;32m      5\u001b[0m \u001b[0mLabel\u001b[0m \u001b[0;34m(\u001b[0m\u001b[0mmyw\u001b[0m\u001b[0;34m,\u001b[0m\u001b[0mtext\u001b[0m\u001b[0;34m=\u001b[0m\u001b[0;34m\"password\"\u001b[0m\u001b[0;34m)\u001b[0m\u001b[0;34m.\u001b[0m\u001b[0mgrid\u001b[0m\u001b[0;34m(\u001b[0m\u001b[0mrow\u001b[0m\u001b[0;34m=\u001b[0m\u001b[0;36m1\u001b[0m\u001b[0;34m)\u001b[0m\u001b[0;34m\u001b[0m\u001b[0;34m\u001b[0m\u001b[0m\n",
            "\u001b[0;32m/usr/lib/python3.7/tkinter/__init__.py\u001b[0m in \u001b[0;36m__init__\u001b[0;34m(self, screenName, baseName, className, useTk, sync, use)\u001b[0m\n\u001b[1;32m   2021\u001b[0m                 \u001b[0mbaseName\u001b[0m \u001b[0;34m=\u001b[0m \u001b[0mbaseName\u001b[0m \u001b[0;34m+\u001b[0m \u001b[0mext\u001b[0m\u001b[0;34m\u001b[0m\u001b[0;34m\u001b[0m\u001b[0m\n\u001b[1;32m   2022\u001b[0m         \u001b[0minteractive\u001b[0m \u001b[0;34m=\u001b[0m \u001b[0;36m0\u001b[0m\u001b[0;34m\u001b[0m\u001b[0;34m\u001b[0m\u001b[0m\n\u001b[0;32m-> 2023\u001b[0;31m         \u001b[0mself\u001b[0m\u001b[0;34m.\u001b[0m\u001b[0mtk\u001b[0m \u001b[0;34m=\u001b[0m \u001b[0m_tkinter\u001b[0m\u001b[0;34m.\u001b[0m\u001b[0mcreate\u001b[0m\u001b[0;34m(\u001b[0m\u001b[0mscreenName\u001b[0m\u001b[0;34m,\u001b[0m \u001b[0mbaseName\u001b[0m\u001b[0;34m,\u001b[0m \u001b[0mclassName\u001b[0m\u001b[0;34m,\u001b[0m \u001b[0minteractive\u001b[0m\u001b[0;34m,\u001b[0m \u001b[0mwantobjects\u001b[0m\u001b[0;34m,\u001b[0m \u001b[0museTk\u001b[0m\u001b[0;34m,\u001b[0m \u001b[0msync\u001b[0m\u001b[0;34m,\u001b[0m \u001b[0muse\u001b[0m\u001b[0;34m)\u001b[0m\u001b[0;34m\u001b[0m\u001b[0;34m\u001b[0m\u001b[0m\n\u001b[0m\u001b[1;32m   2024\u001b[0m         \u001b[0;32mif\u001b[0m \u001b[0museTk\u001b[0m\u001b[0;34m:\u001b[0m\u001b[0;34m\u001b[0m\u001b[0;34m\u001b[0m\u001b[0m\n\u001b[1;32m   2025\u001b[0m             \u001b[0mself\u001b[0m\u001b[0;34m.\u001b[0m\u001b[0m_loadtk\u001b[0m\u001b[0;34m(\u001b[0m\u001b[0;34m)\u001b[0m\u001b[0;34m\u001b[0m\u001b[0;34m\u001b[0m\u001b[0m\n",
            "\u001b[0;31mTclError\u001b[0m: no display name and no $DISPLAY environment variable"
          ]
        }
      ]
    },
    {
      "cell_type": "code",
      "metadata": {
        "colab": {
          "base_uri": "https://localhost:8080/"
        },
        "id": "i_R8wN-Su3bw",
        "outputId": "5ec3a40e-23d9-4917-f4bf-37b4fae32422"
      },
      "source": [
        "var1=6\n",
        "var2=56\n",
        "var3=int(input())\n",
        "if var3>var2:\n",
        "  print(\"Greater\")\n",
        "elif var3==var2:\n",
        "  print(\"equal\")\n",
        "else:\n",
        "   print(\"lesser\")"
      ],
      "execution_count": null,
      "outputs": [
        {
          "output_type": "stream",
          "name": "stdout",
          "text": [
            "56\n",
            "equal\n"
          ]
        }
      ]
    },
    {
      "cell_type": "code",
      "metadata": {
        "colab": {
          "base_uri": "https://localhost:8080/"
        },
        "id": "nqEHgP2OwxJ7",
        "outputId": "6f6527ad-01ca-4ee2-f140-ca64a05f1727"
      },
      "source": [
        "list=[5,7,3]\n",
        "print(5 in list)\n",
        "if 5 in list:\n",
        "  print(\"Yes ,its in the list\")\n"
      ],
      "execution_count": null,
      "outputs": [
        {
          "output_type": "stream",
          "name": "stdout",
          "text": [
            "True\n",
            "Yes ,its in the list\n"
          ]
        }
      ]
    },
    {
      "cell_type": "code",
      "metadata": {
        "colab": {
          "base_uri": "https://localhost:8080/"
        },
        "id": "0t93TXwPxRlz",
        "outputId": "698a120f-a7d7-495e-a181-7f4c39b18c9a"
      },
      "source": [
        "list=[5,7,11]\n",
        "print(15 not in list)\n",
        "if 15 not in list:\n",
        "  print(\"Yes 15 not in list\")"
      ],
      "execution_count": null,
      "outputs": [
        {
          "output_type": "stream",
          "name": "stdout",
          "text": [
            "True\n",
            "Yes 15 not in list\n"
          ]
        }
      ]
    },
    {
      "cell_type": "code",
      "metadata": {
        "colab": {
          "base_uri": "https://localhost:8080/"
        },
        "id": "xmPOlw3DxqHs",
        "outputId": "1b6e6479-67d9-410c-f76c-9efe973848ca"
      },
      "source": [
        "print(\"What is your age?\")\n",
        "a=int(input())\n",
        "if a>18 and a<100:\n",
        "  print(\"You are eligible to Vote\")\n",
        "elif a==18:\n",
        "  print(\"you can vote\")\n",
        "else:\n",
        "  print(\"you are not eligible to vote\")"
      ],
      "execution_count": null,
      "outputs": [
        {
          "output_type": "stream",
          "name": "stdout",
          "text": [
            "What is your age?\n",
            "101\n",
            "you are not eligible to vote\n"
          ]
        }
      ]
    },
    {
      "cell_type": "code",
      "metadata": {
        "colab": {
          "base_uri": "https://localhost:8080/"
        },
        "id": "UQJKOcVmy8As",
        "outputId": "eaaa0b30-555f-4ab7-a092-61eb4e690298"
      },
      "source": [
        "list1=[[\"A\",\"a\"],[\"B\",\"b\"],[\"C\",\"c\"],[\"D\",\"d\"]]\n",
        "dict1=dict(list1)\n",
        "print(dict1)\n",
        "for item in dict1:\n",
        "  print(item)"
      ],
      "execution_count": null,
      "outputs": [
        {
          "output_type": "stream",
          "name": "stdout",
          "text": [
            "{'A': 'a', 'B': 'b', 'C': 'c', 'D': 'd'}\n",
            "A\n",
            "B\n",
            "C\n",
            "D\n"
          ]
        }
      ]
    },
    {
      "cell_type": "code",
      "metadata": {
        "colab": {
          "base_uri": "https://localhost:8080/"
        },
        "id": "H6MzJess7uhH",
        "outputId": "51684844-f064-4fbe-a3be-072a3b3cc045"
      },
      "source": [
        "items=[12,23,54,87,443,789]\n",
        "for item in items:\n",
        "  if str(item).isnumeric() and item>16:\n",
        "    print(item)"
      ],
      "execution_count": null,
      "outputs": [
        {
          "output_type": "stream",
          "name": "stdout",
          "text": [
            "23\n",
            "54\n",
            "87\n",
            "443\n",
            "789\n"
          ]
        }
      ]
    },
    {
      "cell_type": "code",
      "metadata": {
        "colab": {
          "base_uri": "https://localhost:8080/"
        },
        "id": "7mSZGJ5ENykE",
        "outputId": "f4f1e6cb-a92f-4c2c-fd96-08a23d00b29c"
      },
      "source": [
        "i=0\n",
        "while(i<45):\n",
        "  print(i)\n",
        "  i=i+1"
      ],
      "execution_count": null,
      "outputs": [
        {
          "output_type": "stream",
          "name": "stdout",
          "text": [
            "0\n",
            "1\n",
            "2\n",
            "3\n",
            "4\n",
            "5\n",
            "6\n",
            "7\n",
            "8\n",
            "9\n",
            "10\n",
            "11\n",
            "12\n",
            "13\n",
            "14\n",
            "15\n",
            "16\n",
            "17\n",
            "18\n",
            "19\n",
            "20\n",
            "21\n",
            "22\n",
            "23\n",
            "24\n",
            "25\n",
            "26\n",
            "27\n",
            "28\n",
            "29\n",
            "30\n",
            "31\n",
            "32\n",
            "33\n",
            "34\n",
            "35\n",
            "36\n",
            "37\n",
            "38\n",
            "39\n",
            "40\n",
            "41\n",
            "42\n",
            "43\n",
            "44\n"
          ]
        }
      ]
    },
    {
      "cell_type": "code",
      "metadata": {
        "colab": {
          "base_uri": "https://localhost:8080/"
        },
        "id": "1WfucTHNOiJL",
        "outputId": "78f94980-4d81-4532-f12d-5a81afec22d5"
      },
      "source": [
        "i=0\n",
        "while(i<45):\n",
        "  print(i,end=\" \")\n",
        "  i=i+1"
      ],
      "execution_count": null,
      "outputs": [
        {
          "output_type": "stream",
          "name": "stdout",
          "text": [
            "0 1 2 3 4 5 6 7 8 9 10 11 12 13 14 15 16 17 18 19 20 21 22 23 24 25 26 27 28 29 30 31 32 33 34 35 36 37 38 39 40 41 42 43 44 "
          ]
        }
      ]
    },
    {
      "cell_type": "code",
      "metadata": {
        "colab": {
          "base_uri": "https://localhost:8080/"
        },
        "id": "FVHHNpfvPCGs",
        "outputId": "389f8d66-29f4-4087-ef40-4072bcda0a54"
      },
      "source": [
        "i=0\n",
        "while(True):\n",
        "  print(i+1,end=\" \")\n",
        "  if(i==44):\n",
        "    break\n",
        "  i=i+1\n"
      ],
      "execution_count": null,
      "outputs": [
        {
          "output_type": "stream",
          "name": "stdout",
          "text": [
            "1 2 3 4 5 6 7 8 9 10 11 12 13 14 15 16 17 18 19 20 21 22 23 24 25 26 27 28 29 30 31 32 33 34 35 36 37 38 39 40 41 42 43 44 45 "
          ]
        }
      ]
    },
    {
      "cell_type": "code",
      "metadata": {
        "colab": {
          "base_uri": "https://localhost:8080/"
        },
        "id": "gAsKvjCZPbJn",
        "outputId": "9effd743-33a7-47af-c4b5-d38ed18126fb"
      },
      "source": [
        "i=0\n",
        "while(True):\n",
        "  if i+1<5:\n",
        "    i=i+1\n",
        "    continue\n",
        "  print(i+1,end=\" \")\n",
        "  if(i==44):\n",
        "    break\n",
        "  i=i+1"
      ],
      "execution_count": null,
      "outputs": [
        {
          "output_type": "stream",
          "name": "stdout",
          "text": [
            "5 6 7 8 9 10 11 12 13 14 15 16 17 18 19 20 21 22 23 24 25 26 27 28 29 30 31 32 33 34 35 36 37 38 39 40 41 42 43 44 45 "
          ]
        }
      ]
    },
    {
      "cell_type": "code",
      "metadata": {
        "colab": {
          "base_uri": "https://localhost:8080/"
        },
        "id": "iMkfFEk8QIRd",
        "outputId": "c30bf108-1283-46e4-a744-a28ba4e9f1d1"
      },
      "source": [
        "\n",
        "while(True):\n",
        "  i=int(input(\"Enter number: \"))\n",
        "  if i>100:\n",
        "    print(\"congrats you have entered a number greater than 100\")\n",
        "    break\n",
        "  else:\n",
        "     print(\"Try again\")\n",
        "     continue\n",
        "    \n",
        "    "
      ],
      "execution_count": null,
      "outputs": [
        {
          "output_type": "stream",
          "name": "stdout",
          "text": [
            "Enter number: 9\n",
            "Try again\n",
            "Enter number: 900\n",
            "congrats you have entered a number greater than 100\n"
          ]
        }
      ]
    },
    {
      "cell_type": "code",
      "metadata": {
        "colab": {
          "base_uri": "https://localhost:8080/"
        },
        "id": "ULcpSXuUTAX9",
        "outputId": "bbe999b5-a15a-4605-86c2-6b11137bb948"
      },
      "source": [
        "# Question :-\n",
        "\"\"\" 45 * 3 = 555, 56+9 = 77, 56/6 = 4\n",
        "Design a calculator which will correctly solve all the\n",
        "problems except the following ones:\n",
        "45 * 3 = 555, 56+9 = 77, 56/6 = 4\n",
        "Your program should take operator  and the two numbers as input\n",
        "from the user and then return the result.\"\"\"\n",
        "\n",
        "print(\"Welcome to faulty calculator\")\n",
        "a=int(input(\"Enter your first number:\"))\n",
        "b=int(input(\"Enter your second number:\"))\n",
        "print(\"Choose the operator by which you want to perform operation\",\"+,-,*,/,%:\", end=\" \")\n",
        "c=input()\n",
        "if a==45 and b==3 and c=='*':\n",
        "  print(\"The output of this opertaion is 555\")\n",
        "elif a==56 and b==9 and c=='+':\n",
        "  print(\" The output of this operation is 77\")\n",
        "elif a== 56 and b==6 and c=='/':\n",
        "  print(\"The output of this operation is 4\")\n",
        "elif c=='-':\n",
        "  print(\"The output of this operation is : \",a-b)\n",
        "elif c=='%':\n",
        "  print(\"The output of this operation is : \",a%b)\n",
        "elif c=='+':\n",
        "  print(\"The output of this operation is : \",a+b)\n",
        "elif c=='/':\n",
        "  print(\"The output of this operation is : \",a/b)\n",
        "elif c=='*':\n",
        "  print(\"The output of this operation is : \",a*b)\n",
        "else:\n",
        "  print(\"Run the program again\")"
      ],
      "execution_count": null,
      "outputs": [
        {
          "output_type": "stream",
          "name": "stdout",
          "text": [
            "Welcome to faulty calculator\n",
            "Enter your first number:9\n",
            "Enter your second number:7\n",
            "Choose the operator by which you want to perform operation +,-,*,/,%: -\n",
            "The output of this operation is :  2\n"
          ]
        }
      ]
    },
    {
      "cell_type": "code",
      "metadata": {
        "colab": {
          "base_uri": "https://localhost:8080/"
        },
        "id": "eZnaErT7XuTx",
        "outputId": "33d80339-e186-4f65-d303-eb009120ff23"
      },
      "source": [
        "import math\n",
        "import os\n",
        "import random\n",
        "import re\n",
        "import sys\n",
        "\n",
        "n=int(input())\n",
        "if n % 2 == 0:\n",
        "  if n in range(2,6):\n",
        "    print(\"Not Werid\")\n",
        "  elif n in range (6,21):\n",
        "    print(\"Werid\")\n",
        "  elif n>20:\n",
        "    print(\"Not Werid\")\n",
        "else:\n",
        "  print(\"Werid\")\n",
        "    \n"
      ],
      "execution_count": null,
      "outputs": [
        {
          "output_type": "stream",
          "name": "stdout",
          "text": [
            "4\n",
            "Not Werid\n"
          ]
        }
      ]
    },
    {
      "cell_type": "code",
      "metadata": {
        "colab": {
          "base_uri": "https://localhost:8080/"
        },
        "id": "xwVHG2FVaADU",
        "outputId": "22b08912-5104-4266-abe3-83e9626152e3"
      },
      "source": [
        "a=int(input())\n",
        "b=int(input())\n",
        "add=a+b\n",
        "sub=a-b\n",
        "mul=a*b\n",
        "print(add)\n",
        "print(sub)\n",
        "print(mul)"
      ],
      "execution_count": null,
      "outputs": [
        {
          "output_type": "stream",
          "name": "stdout",
          "text": [
            "3\n",
            "2\n",
            "5\n",
            "1\n",
            "6\n"
          ]
        }
      ]
    },
    {
      "cell_type": "code",
      "metadata": {
        "colab": {
          "base_uri": "https://localhost:8080/"
        },
        "id": "eDVxTQDPagsp",
        "outputId": "c4df9610-e5e9-489b-9d77-4b844ec78cff"
      },
      "source": [
        "a = int(input())\n",
        "b = int(input())\n",
        "int_division=a//b\n",
        "float_division=a/b\n",
        "print(int_division)\n",
        "print(float_division)\n",
        "    "
      ],
      "execution_count": null,
      "outputs": [
        {
          "output_type": "stream",
          "name": "stdout",
          "text": [
            "4\n",
            "3\n",
            "1\n",
            "1.3333333333333333\n"
          ]
        }
      ]
    },
    {
      "cell_type": "code",
      "metadata": {
        "colab": {
          "base_uri": "https://localhost:8080/"
        },
        "id": "_H2Gbd1xb9Gl",
        "outputId": "53bfee25-3120-42aa-a6f5-df0dca385b7d"
      },
      "source": [
        "n=int(input())\n",
        "for i in range(n):\n",
        "        print(i * i)"
      ],
      "execution_count": null,
      "outputs": [
        {
          "output_type": "stream",
          "name": "stdout",
          "text": [
            "5\n",
            "0\n",
            "1\n",
            "4\n",
            "9\n",
            "16\n"
          ]
        }
      ]
    },
    {
      "cell_type": "code",
      "metadata": {
        "colab": {
          "base_uri": "https://localhost:8080/"
        },
        "id": "osc7aXqwcNIA",
        "outputId": "32fc9ee0-c7c1-4bec-ee69-c00440ffa8ce"
      },
      "source": [
        "item1=['a','b','c','d']\n",
        "for item in item1:\n",
        "  print(item1)"
      ],
      "execution_count": null,
      "outputs": [
        {
          "output_type": "stream",
          "name": "stdout",
          "text": [
            "['a', 'b', 'c', 'd']\n",
            "['a', 'b', 'c', 'd']\n",
            "['a', 'b', 'c', 'd']\n",
            "['a', 'b', 'c', 'd']\n"
          ]
        }
      ]
    },
    {
      "cell_type": "code",
      "metadata": {
        "colab": {
          "base_uri": "https://localhost:8080/"
        },
        "id": "ucuKjGQWiHNT",
        "outputId": "b1e42ab7-f424-4c45-aab2-16cb6337ca94"
      },
      "source": [
        "def is_leap(year):\n",
        "    if year % 400 == 0:\n",
        "        return True\n",
        "    if year % 100 == 0:\n",
        "        return False\n",
        "    if year % 4 == 0:\n",
        "        return True\n",
        "    else:\n",
        "        return False\n",
        "    \n",
        "    \n",
        "    \n",
        "\n",
        "year = int(input())\n",
        "print(is_leap(year))"
      ],
      "execution_count": null,
      "outputs": [
        {
          "output_type": "stream",
          "name": "stdout",
          "text": [
            "2020\n",
            "True\n"
          ]
        }
      ]
    },
    {
      "cell_type": "code",
      "metadata": {
        "colab": {
          "base_uri": "https://localhost:8080/"
        },
        "id": "hXUKiZBdkNad",
        "outputId": "26abcc6d-e020-478b-aa0a-99b6cf7128fa"
      },
      "source": [
        "n = int(input())\n",
        "for i in range(n):\n",
        "    a = input()\n",
        "    if a.isdigit() and (a.startswith('7') or a.startswith('8') or a.startswith('9')) and len(a) == 10:\n",
        "        #print(int(a))\n",
        "        print('YES')\n",
        "    else:\n",
        "        print('NO')"
      ],
      "execution_count": null,
      "outputs": [
        {
          "output_type": "stream",
          "name": "stdout",
          "text": [
            "2\n",
            "987654321\n",
            "NO\n",
            "7689543212\n",
            "YES\n"
          ]
        }
      ]
    },
    {
      "cell_type": "code",
      "metadata": {
        "colab": {
          "base_uri": "https://localhost:8080/"
        },
        "id": "Eg3835IJ4eZY",
        "outputId": "cacdb7b5-5a3c-4123-b4f7-837c48658ed6"
      },
      "source": [
        "ord('a')\n"
      ],
      "execution_count": 6,
      "outputs": [
        {
          "output_type": "execute_result",
          "data": {
            "text/plain": [
              "97"
            ]
          },
          "metadata": {},
          "execution_count": 6
        }
      ]
    },
    {
      "cell_type": "code",
      "metadata": {
        "colab": {
          "base_uri": "https://localhost:8080/"
        },
        "id": "Ck_JY6Zj64A1",
        "outputId": "d3075873-b3c7-4d6b-bc90-0808f2adab22"
      },
      "source": [
        "l1=[1,2]\n",
        "l2=[2,3,4,5]\n",
        "print(id(l1),id(l2))"
      ],
      "execution_count": 2,
      "outputs": [
        {
          "output_type": "stream",
          "name": "stdout",
          "text": [
            "140612903745648 140612903784528\n"
          ]
        }
      ]
    },
    {
      "cell_type": "code",
      "metadata": {
        "colab": {
          "base_uri": "https://localhost:8080/"
        },
        "id": "NyEdP7128XRI",
        "outputId": "a7e81854-c3dd-4ee8-bd76-7746af5904b3"
      },
      "source": [
        "import random as r\n",
        "print(r.randint(0,10))"
      ],
      "execution_count": 11,
      "outputs": [
        {
          "output_type": "stream",
          "name": "stdout",
          "text": [
            "0\n"
          ]
        }
      ]
    },
    {
      "cell_type": "code",
      "metadata": {
        "colab": {
          "base_uri": "https://localhost:8080/"
        },
        "id": "MNh5vO6a8nW_",
        "outputId": "e6f905c7-fe69-4e5d-8d3f-0e63e65269ee"
      },
      "source": [
        "d={1:1,'b':'c'}\n",
        "alias=d\n",
        "print(alias)\n",
        "c=d.copy\n",
        "print(c)\n",
        "print(d)"
      ],
      "execution_count": 4,
      "outputs": [
        {
          "output_type": "stream",
          "name": "stdout",
          "text": [
            "{1: 1, 'b': 'c'}\n",
            "<built-in method copy of dict object at 0x7f949c6484b0>\n",
            "{1: 1, 'b': 'c'}\n"
          ]
        }
      ]
    },
    {
      "cell_type": "code",
      "metadata": {
        "colab": {
          "base_uri": "https://localhost:8080/"
        },
        "id": "qh1y1FC6AGjP",
        "outputId": "ca71b090-e051-4368-e00a-1d4eb412789a"
      },
      "source": [
        "prev={0:1,1:1}\n",
        "print(prev)\n",
        "def fib(n):\n",
        "  if n in prev:\n",
        "    return(prev[n])\n",
        "  else:\n",
        "    new=fib(n-1) + fib(n-2)\n",
        "    prev[n] = new\n",
        "    return(new)\n",
        "print(fib(4))\n",
        "print(prev)\n",
        "\n",
        "\n",
        "\n"
      ],
      "execution_count": 1,
      "outputs": [
        {
          "output_type": "stream",
          "name": "stdout",
          "text": [
            "{0: 1, 1: 1}\n",
            "5\n",
            "{0: 1, 1: 1, 2: 2, 3: 3, 4: 5}\n"
          ]
        }
      ]
    },
    {
      "cell_type": "code",
      "metadata": {
        "colab": {
          "base_uri": "https://localhost:8080/"
        },
        "id": "_y-Gm8hPhw1z",
        "outputId": "8f483b8c-a290-4890-c834-4ec8dfdcce99"
      },
      "source": [
        "list1=[\"bihar\",\"patna\",\"ranchi\",\"jharkhand\"]\n",
        "for item in list1:\n",
        "  print(item)"
      ],
      "execution_count": 14,
      "outputs": [
        {
          "output_type": "stream",
          "name": "stdout",
          "text": [
            "bihar\n",
            "patna\n",
            "ranchi\n",
            "jharkhand\n"
          ]
        }
      ]
    },
    {
      "cell_type": "code",
      "metadata": {
        "colab": {
          "base_uri": "https://localhost:8080/"
        },
        "id": "eFTiwg-jjvDD",
        "outputId": "86d794a6-f995-4d42-9a9a-d4b3f75dcf0e"
      },
      "source": [
        "list1=[[\"A\",1],[\"B\",3],[\"L\",7],[\"O\",9]]\n",
        "for item,number in list1:\n",
        "  print(item,\"and number is\", number)\n"
      ],
      "execution_count": 16,
      "outputs": [
        {
          "output_type": "stream",
          "name": "stdout",
          "text": [
            "A and number is 1\n",
            "B and number is 3\n",
            "L and number is 7\n",
            "O and number is 9\n"
          ]
        }
      ]
    },
    {
      "cell_type": "code",
      "metadata": {
        "colab": {
          "base_uri": "https://localhost:8080/"
        },
        "id": "p_Wkzc0cktmN",
        "outputId": "787d5a27-37f8-4206-aa4c-beceb0101075"
      },
      "source": [
        "list1=[[\"A\",1],[\"B\",3],[\"L\",7],[\"O\",9]]\n",
        "dict1=dict(list1)\n",
        "print(dict1)\n",
        "for item ,number in dict1.items():\n",
        "  print(item,\"and number is\",number)"
      ],
      "execution_count": 18,
      "outputs": [
        {
          "output_type": "stream",
          "name": "stdout",
          "text": [
            "{'A': 1, 'B': 3, 'L': 7, 'O': 9}\n",
            "A and number is 1\n",
            "B and number is 3\n",
            "L and number is 7\n",
            "O and number is 9\n"
          ]
        }
      ]
    },
    {
      "cell_type": "code",
      "metadata": {
        "colab": {
          "base_uri": "https://localhost:8080/"
        },
        "id": "G5DA45FLlQoy",
        "outputId": "aee1d147-4016-43a5-9445-acda79f4077c"
      },
      "source": [
        "list1=[[\"A\",1],[\"B\",3],[\"L\",7],[\"O\",9]]\n",
        "dict1=dict(list1)\n",
        "for item in dict1:\n",
        "  print(item)"
      ],
      "execution_count": 19,
      "outputs": [
        {
          "output_type": "stream",
          "name": "stdout",
          "text": [
            "A\n",
            "B\n",
            "L\n",
            "O\n"
          ]
        }
      ]
    },
    {
      "cell_type": "code",
      "metadata": {
        "colab": {
          "base_uri": "https://localhost:8080/"
        },
        "id": "YDUwWrP-lQxa",
        "outputId": "416525cb-2c69-49ff-cfc4-0b257b2e4964"
      },
      "source": [
        "items=[1,'a',7,'e','f',19,7,'l']\n",
        "for item in items:\n",
        "  if (str(item).isnumeric() and item>6):\n",
        "    print(item)\n",
        "  else:\n",
        "    print(\"invalid item\")"
      ],
      "execution_count": 26,
      "outputs": [
        {
          "output_type": "stream",
          "name": "stdout",
          "text": [
            "invalid item\n",
            "invalid item\n",
            "7\n",
            "invalid item\n",
            "invalid item\n",
            "19\n",
            "7\n",
            "invalid item\n"
          ]
        }
      ]
    },
    {
      "cell_type": "code",
      "metadata": {
        "id": "vIvVx8k7myw3"
      },
      "source": [
        ""
      ],
      "execution_count": null,
      "outputs": []
    }
  ]
}